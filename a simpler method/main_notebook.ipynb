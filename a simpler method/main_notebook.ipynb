{
 "cells": [
  {
   "cell_type": "code",
   "execution_count": 1,
   "id": "4af54ca2-5166-47e0-b037-c7785497c19e",
   "metadata": {},
   "outputs": [],
   "source": [
    "import numpy as np\n",
    "import pandas as pd\n",
    "from IPython.display import display,HTML"
   ]
  },
  {
   "cell_type": "markdown",
   "id": "c8e72c09-0218-4887-b661-35341a7b8490",
   "metadata": {},
   "source": [
    "1. we determine the place from which we extract the data we are interested in (https://adatbank.mlsz.hu/league/59/0/25413/17.html)       ---- where? what?\n",
    "2. will extract the data of the 2nd division of the Hungarian championship (i'm interested in that), using a simple method, namely **pd.read_html**  ------ whit what?\n",
    "\n",
    "                2/a. write a simple finction to this\n",
    "                2/b. and we will deal with a small inconvenience"
   ]
  },
  {
   "cell_type": "markdown",
   "id": "b63d76a2-16e2-4791-81b4-344434c407d0",
   "metadata": {},
   "source": [
    "First of all, let's see how many tables our site contains"
   ]
  },
  {
   "cell_type": "code",
   "execution_count": 13,
   "id": "87659352-9a68-4309-b908-932e528eaa15",
   "metadata": {},
   "outputs": [],
   "source": [
    "example_df = pd.read_html('https://adatbank.mlsz.hu/league/59/0/25413/17.html')"
   ]
  },
  {
   "cell_type": "markdown",
   "id": "57f52a1e-d871-4643-86ec-2676e27dfbe0",
   "metadata": {},
   "source": [
    "after checking it turns out that we need one of the 19 options"
   ]
  },
  {
   "cell_type": "code",
   "execution_count": 14,
   "id": "06b0deab-5edb-468c-965c-0971409f5f6f",
   "metadata": {},
   "outputs": [
    {
     "data": {
      "text/plain": [
       "19"
      ]
     },
     "execution_count": 14,
     "metadata": {},
     "output_type": "execute_result"
    }
   ],
   "source": [
    "len(example_df)"
   ]
  },
  {
   "cell_type": "markdown",
   "id": "e4704514-2713-4555-9d9d-2275a8b41a9e",
   "metadata": {},
   "source": [
    "after interpreting the options, let's write a usable function"
   ]
  },
  {
   "cell_type": "code",
   "execution_count": 4,
   "id": "553ed49a-c48f-4e47-a418-2c58caa9d974",
   "metadata": {},
   "outputs": [],
   "source": [
    "def roundAndposition(lastRoundNum):\n",
    "    df = pd.DataFrame()\n",
    "    # enter the value of the last round\n",
    "    for num in range(1,lastRoundNum+1,1):\n",
    "        rawTable = pd.read_html(f'http://ada1bank.mlsz.hu/league?evad=59&szervezet=0&verseny=25413&fordulo={num}')\n",
    "        # pd.html usually returns a list of lists (we have 19 now) - it is important to find out which one we need - we found out beforehand, in our case, number 5 is the winner\n",
    "        df2 = rawTable[5][rawTable[5].columns[2:11]]\n",
    "        \n",
    "        df = pd.concat([df,df2])\n",
    "    \n",
    "    # mark the ranking with a new column\n",
    "    df = (df\n",
    "        .assign(Position = df.index+1))\n",
    "    \n",
    "    # define and sort necessary columns\n",
    "    new_col = ['team','round','win','draw','lost','goalfor','goalagainst','goaldiff','point','position']\n",
    "    df = (df\n",
    "        .rename(columns={k:v for k,v in zip(df.columns,new_col)}))\n",
    "    \n",
    "    \n",
    "    return df.reset_index(drop=True)"
   ]
  },
  {
   "cell_type": "code",
   "execution_count": 5,
   "id": "2079cc78-f02a-45bf-9117-b92835d6158b",
   "metadata": {
    "tags": []
   },
   "outputs": [],
   "source": [
    "df = roundAndposition(17)"
   ]
  },
  {
   "cell_type": "markdown",
   "id": "f1ac1707-1e09-4841-b4bc-6c4061673ebd",
   "metadata": {},
   "source": [
    "Don't forget to check the data, because we may be in for a surprise\n",
    "\n",
    "        for example, let's look at the team names after such a scratch"
   ]
  },
  {
   "cell_type": "code",
   "execution_count": 6,
   "id": "4f74be47-f42a-4aa4-b293-21f93a1e393d",
   "metadata": {},
   "outputs": [
    {
     "data": {
      "text/plain": [
       "array(['GYIRMÓT\\xa0FC\\xa0GYŐR', 'FC\\xa0AJKA', 'SOROKSÁR\\xa0SC',\n",
       "       'KOLORCITY\\xa0KAZINCBARCIKA\\xa0SC', 'MTK\\xa0BUDAPEST',\n",
       "       'BFC\\xa0SIÓFOK', 'ETO\\xa0FC\\xa0GYŐR', 'PMFC', 'TISZAKÉCSKEI\\xa0LC',\n",
       "       'AQVITAL\\xa0FC\\xa0CSÁKVÁR', 'SZOMBATHELYI\\xa0HALADÁS',\n",
       "       'SZEGED-CSANÁD\\xa0GROSICS\\xa0AKADÉMIA',\n",
       "       'BÉKÉSCSABA\\xa01912\\xa0ELŐRE', 'CREDOBUS\\xa0MOSONMAGYARÓVÁR',\n",
       "       'DVTK', 'NYÍREGYHÁZA\\xa0SPARTACUS\\xa0FC',\n",
       "       'HR-RENT\\xa0KOZÁRMISLENY', 'DOROGI\\xa0FC', 'BUDAFOKI\\xa0MTE',\n",
       "       'SZENTLŐRINC'], dtype=object)"
      ]
     },
     "execution_count": 6,
     "metadata": {},
     "output_type": "execute_result"
    }
   ],
   "source": [
    "df.team.unique()"
   ]
  },
  {
   "cell_type": "code",
   "execution_count": 7,
   "id": "06fddc3e-5492-4f6e-b8cb-f3a5753355ef",
   "metadata": {},
   "outputs": [],
   "source": [
    "df = (df\n",
    "     .assign(team = [' '.join(x.split()) for x in df.team]))"
   ]
  },
  {
   "cell_type": "markdown",
   "id": "ddd0009e-76cd-4621-93e2-e0199a14c02b",
   "metadata": {},
   "source": [
    "so it will be suitable - check"
   ]
  },
  {
   "cell_type": "code",
   "execution_count": 8,
   "id": "9bbdcd5d-5842-450d-a292-ac90841b339e",
   "metadata": {},
   "outputs": [
    {
     "data": {
      "text/plain": [
       "array(['GYIRMÓT FC GYŐR', 'FC AJKA', 'SOROKSÁR SC',\n",
       "       'KOLORCITY KAZINCBARCIKA SC', 'MTK BUDAPEST', 'BFC SIÓFOK',\n",
       "       'ETO FC GYŐR', 'PMFC', 'TISZAKÉCSKEI LC', 'AQVITAL FC CSÁKVÁR',\n",
       "       'SZOMBATHELYI HALADÁS', 'SZEGED-CSANÁD GROSICS AKADÉMIA',\n",
       "       'BÉKÉSCSABA 1912 ELŐRE', 'CREDOBUS MOSONMAGYARÓVÁR', 'DVTK',\n",
       "       'NYÍREGYHÁZA SPARTACUS FC', 'HR-RENT KOZÁRMISLENY', 'DOROGI FC',\n",
       "       'BUDAFOKI MTE', 'SZENTLŐRINC'], dtype=object)"
      ]
     },
     "execution_count": 8,
     "metadata": {},
     "output_type": "execute_result"
    }
   ],
   "source": [
    "df.team.unique()"
   ]
  },
  {
   "cell_type": "markdown",
   "id": "972c4667-26c4-4c0e-9e20-1ec3180333db",
   "metadata": {},
   "source": [
    "let's see how it works manually"
   ]
  },
  {
   "cell_type": "code",
   "execution_count": 15,
   "id": "5019bddd-6f4e-4e29-bca9-f40368de1d4e",
   "metadata": {},
   "outputs": [
    {
     "data": {
      "text/html": [
       "<div>\n",
       "<style scoped>\n",
       "    .dataframe tbody tr th:only-of-type {\n",
       "        vertical-align: middle;\n",
       "    }\n",
       "\n",
       "    .dataframe tbody tr th {\n",
       "        vertical-align: top;\n",
       "    }\n",
       "\n",
       "    .dataframe thead th {\n",
       "        text-align: right;\n",
       "    }\n",
       "</style>\n",
       "<table border=\"1\" class=\"dataframe\">\n",
       "  <thead>\n",
       "    <tr style=\"text-align: right;\">\n",
       "      <th></th>\n",
       "      <th>team</th>\n",
       "      <th>round</th>\n",
       "      <th>win</th>\n",
       "      <th>draw</th>\n",
       "      <th>lost</th>\n",
       "      <th>goalfor</th>\n",
       "      <th>goalagainst</th>\n",
       "      <th>goaldiff</th>\n",
       "      <th>point</th>\n",
       "      <th>position</th>\n",
       "    </tr>\n",
       "  </thead>\n",
       "  <tbody>\n",
       "    <tr>\n",
       "      <th>187</th>\n",
       "      <td>NYÍREGYHÁZA SPARTACUS FC</td>\n",
       "      <td>10</td>\n",
       "      <td>4</td>\n",
       "      <td>2</td>\n",
       "      <td>4</td>\n",
       "      <td>14</td>\n",
       "      <td>11</td>\n",
       "      <td>3</td>\n",
       "      <td>14</td>\n",
       "      <td>8</td>\n",
       "    </tr>\n",
       "  </tbody>\n",
       "</table>\n",
       "</div>"
      ],
      "text/plain": [
       "                         team  round  win  draw  lost  goalfor  goalagainst  \\\n",
       "187  NYÍREGYHÁZA SPARTACUS FC     10    4     2     4       14           11   \n",
       "\n",
       "     goaldiff  point  position  \n",
       "187         3     14         8  "
      ]
     },
     "execution_count": 15,
     "metadata": {},
     "output_type": "execute_result"
    }
   ],
   "source": [
    "df[(df.team == 'NYÍREGYHÁZA SPARTACUS FC') & (df['round'] == 10) ]"
   ]
  },
  {
   "cell_type": "markdown",
   "id": "aa3083f6-3ed6-43fd-9630-635b3d9a1816",
   "metadata": {},
   "source": [
    "let's generalize it with a function"
   ]
  },
  {
   "cell_type": "code",
   "execution_count": 10,
   "id": "0d03236b-4019-4413-ba11-dab7794ec10e",
   "metadata": {},
   "outputs": [],
   "source": [
    "def posTeam(team,round_):\n",
    "    return df[(df.team == team) & (df['round'] == round_) ]"
   ]
  },
  {
   "cell_type": "code",
   "execution_count": 19,
   "id": "cc0c30a1-cd51-4545-a262-a22810b36504",
   "metadata": {},
   "outputs": [
    {
     "data": {
      "text/plain": [
       "8"
      ]
     },
     "execution_count": 19,
     "metadata": {},
     "output_type": "execute_result"
    }
   ],
   "source": [
    "posTeam('NYÍREGYHÁZA SPARTACUS FC',10).position.values[0]"
   ]
  },
  {
   "cell_type": "markdown",
   "id": "ba9036cf-556a-4fe2-917a-1ea2d20f0d25",
   "metadata": {},
   "source": [
    "Great"
   ]
  },
  {
   "cell_type": "markdown",
   "id": "3c8ed864-bac7-4b66-bbfc-6c064d83eb42",
   "metadata": {},
   "source": [
    "OK. we just have to do one thing. let's write a function to get the positions of all the turns"
   ]
  },
  {
   "cell_type": "code",
   "execution_count": 33,
   "id": "035e3e58-02f0-4ec9-863c-da5bcd63ad89",
   "metadata": {},
   "outputs": [],
   "source": [
    "def teamPerRound(team, lastRound):\n",
    "    \n",
    "    pos = []\n",
    "    \n",
    "    for num in range(1, lastRound+1):\n",
    "        posI = posTeam(team,num).position.values[0]\n",
    "        pos.append(posI)\n",
    "    \n",
    "    \n",
    "    return pd.DataFrame({'team':[f'{team}' for x in range(lastRound)], 'round':[x for x in range(1,lastRound+1)],'position':pos})"
   ]
  },
  {
   "cell_type": "markdown",
   "id": "4c373593-34c4-45c1-a089-8f1c65d112be",
   "metadata": {},
   "source": [
    "check"
   ]
  },
  {
   "cell_type": "code",
   "execution_count": 34,
   "id": "00638b47-7443-4f72-8cb4-7411de6ba5f5",
   "metadata": {},
   "outputs": [
    {
     "data": {
      "text/html": [
       "<div>\n",
       "<style scoped>\n",
       "    .dataframe tbody tr th:only-of-type {\n",
       "        vertical-align: middle;\n",
       "    }\n",
       "\n",
       "    .dataframe tbody tr th {\n",
       "        vertical-align: top;\n",
       "    }\n",
       "\n",
       "    .dataframe thead th {\n",
       "        text-align: right;\n",
       "    }\n",
       "</style>\n",
       "<table border=\"1\" class=\"dataframe\">\n",
       "  <thead>\n",
       "    <tr style=\"text-align: right;\">\n",
       "      <th></th>\n",
       "      <th>team</th>\n",
       "      <th>round</th>\n",
       "      <th>position</th>\n",
       "    </tr>\n",
       "  </thead>\n",
       "  <tbody>\n",
       "    <tr>\n",
       "      <th>0</th>\n",
       "      <td>NYÍREGYHÁZA SPARTACUS FC</td>\n",
       "      <td>1</td>\n",
       "      <td>16</td>\n",
       "    </tr>\n",
       "    <tr>\n",
       "      <th>1</th>\n",
       "      <td>NYÍREGYHÁZA SPARTACUS FC</td>\n",
       "      <td>2</td>\n",
       "      <td>19</td>\n",
       "    </tr>\n",
       "    <tr>\n",
       "      <th>2</th>\n",
       "      <td>NYÍREGYHÁZA SPARTACUS FC</td>\n",
       "      <td>3</td>\n",
       "      <td>19</td>\n",
       "    </tr>\n",
       "    <tr>\n",
       "      <th>3</th>\n",
       "      <td>NYÍREGYHÁZA SPARTACUS FC</td>\n",
       "      <td>4</td>\n",
       "      <td>17</td>\n",
       "    </tr>\n",
       "    <tr>\n",
       "      <th>4</th>\n",
       "      <td>NYÍREGYHÁZA SPARTACUS FC</td>\n",
       "      <td>5</td>\n",
       "      <td>17</td>\n",
       "    </tr>\n",
       "    <tr>\n",
       "      <th>5</th>\n",
       "      <td>NYÍREGYHÁZA SPARTACUS FC</td>\n",
       "      <td>6</td>\n",
       "      <td>16</td>\n",
       "    </tr>\n",
       "    <tr>\n",
       "      <th>6</th>\n",
       "      <td>NYÍREGYHÁZA SPARTACUS FC</td>\n",
       "      <td>7</td>\n",
       "      <td>16</td>\n",
       "    </tr>\n",
       "    <tr>\n",
       "      <th>7</th>\n",
       "      <td>NYÍREGYHÁZA SPARTACUS FC</td>\n",
       "      <td>8</td>\n",
       "      <td>15</td>\n",
       "    </tr>\n",
       "    <tr>\n",
       "      <th>8</th>\n",
       "      <td>NYÍREGYHÁZA SPARTACUS FC</td>\n",
       "      <td>9</td>\n",
       "      <td>12</td>\n",
       "    </tr>\n",
       "    <tr>\n",
       "      <th>9</th>\n",
       "      <td>NYÍREGYHÁZA SPARTACUS FC</td>\n",
       "      <td>10</td>\n",
       "      <td>8</td>\n",
       "    </tr>\n",
       "    <tr>\n",
       "      <th>10</th>\n",
       "      <td>NYÍREGYHÁZA SPARTACUS FC</td>\n",
       "      <td>11</td>\n",
       "      <td>14</td>\n",
       "    </tr>\n",
       "    <tr>\n",
       "      <th>11</th>\n",
       "      <td>NYÍREGYHÁZA SPARTACUS FC</td>\n",
       "      <td>12</td>\n",
       "      <td>15</td>\n",
       "    </tr>\n",
       "    <tr>\n",
       "      <th>12</th>\n",
       "      <td>NYÍREGYHÁZA SPARTACUS FC</td>\n",
       "      <td>13</td>\n",
       "      <td>15</td>\n",
       "    </tr>\n",
       "    <tr>\n",
       "      <th>13</th>\n",
       "      <td>NYÍREGYHÁZA SPARTACUS FC</td>\n",
       "      <td>14</td>\n",
       "      <td>13</td>\n",
       "    </tr>\n",
       "    <tr>\n",
       "      <th>14</th>\n",
       "      <td>NYÍREGYHÁZA SPARTACUS FC</td>\n",
       "      <td>15</td>\n",
       "      <td>14</td>\n",
       "    </tr>\n",
       "    <tr>\n",
       "      <th>15</th>\n",
       "      <td>NYÍREGYHÁZA SPARTACUS FC</td>\n",
       "      <td>16</td>\n",
       "      <td>11</td>\n",
       "    </tr>\n",
       "    <tr>\n",
       "      <th>16</th>\n",
       "      <td>NYÍREGYHÁZA SPARTACUS FC</td>\n",
       "      <td>17</td>\n",
       "      <td>12</td>\n",
       "    </tr>\n",
       "  </tbody>\n",
       "</table>\n",
       "</div>"
      ],
      "text/plain": [
       "                        team  round  position\n",
       "0   NYÍREGYHÁZA SPARTACUS FC      1        16\n",
       "1   NYÍREGYHÁZA SPARTACUS FC      2        19\n",
       "2   NYÍREGYHÁZA SPARTACUS FC      3        19\n",
       "3   NYÍREGYHÁZA SPARTACUS FC      4        17\n",
       "4   NYÍREGYHÁZA SPARTACUS FC      5        17\n",
       "5   NYÍREGYHÁZA SPARTACUS FC      6        16\n",
       "6   NYÍREGYHÁZA SPARTACUS FC      7        16\n",
       "7   NYÍREGYHÁZA SPARTACUS FC      8        15\n",
       "8   NYÍREGYHÁZA SPARTACUS FC      9        12\n",
       "9   NYÍREGYHÁZA SPARTACUS FC     10         8\n",
       "10  NYÍREGYHÁZA SPARTACUS FC     11        14\n",
       "11  NYÍREGYHÁZA SPARTACUS FC     12        15\n",
       "12  NYÍREGYHÁZA SPARTACUS FC     13        15\n",
       "13  NYÍREGYHÁZA SPARTACUS FC     14        13\n",
       "14  NYÍREGYHÁZA SPARTACUS FC     15        14\n",
       "15  NYÍREGYHÁZA SPARTACUS FC     16        11\n",
       "16  NYÍREGYHÁZA SPARTACUS FC     17        12"
      ]
     },
     "execution_count": 34,
     "metadata": {},
     "output_type": "execute_result"
    }
   ],
   "source": [
    "teamPerRound('NYÍREGYHÁZA SPARTACUS FC',17)"
   ]
  },
  {
   "cell_type": "markdown",
   "id": "0b2a7458-3120-4bf5-b594-927ead982866",
   "metadata": {},
   "source": [
    "done and great"
   ]
  },
  {
   "cell_type": "code",
   "execution_count": null,
   "id": "1a485b5e-caa6-462a-9bd5-2e017442c583",
   "metadata": {},
   "outputs": [],
   "source": []
  }
 ],
 "metadata": {
  "kernelspec": {
   "display_name": "Python 3",
   "language": "python",
   "name": "python3"
  },
  "language_info": {
   "codemirror_mode": {
    "name": "ipython",
    "version": 3
   },
   "file_extension": ".py",
   "mimetype": "text/x-python",
   "name": "python",
   "nbconvert_exporter": "python",
   "pygments_lexer": "ipython3",
   "version": "3.8.5"
  }
 },
 "nbformat": 4,
 "nbformat_minor": 5
}
